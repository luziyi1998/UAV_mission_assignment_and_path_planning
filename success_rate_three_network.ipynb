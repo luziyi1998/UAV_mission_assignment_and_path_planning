{
 "cells": [
  {
   "cell_type": "code",
   "execution_count": 1,
   "id": "95f5a7a0",
   "metadata": {},
   "outputs": [],
   "source": [
    "from graph.generate_graph import *"
   ]
  },
  {
   "cell_type": "code",
   "execution_count": 4,
   "id": "ecf54849",
   "metadata": {},
   "outputs": [],
   "source": [
    "#parameters\n",
    "N_depots = 3\n",
    "N_drones = 20\n",
    "N_packages = 60\n",
    "N_transit_edges = 20\n",
    "Max_flight = 300"
   ]
  },
  {
   "cell_type": "code",
   "execution_count": 5,
   "id": "2491b46f",
   "metadata": {},
   "outputs": [],
   "source": [
    "TG, depots_node, transit_node, packages_node, transit_edges, cost_matrix = return_Digraph(N_depots, N_transit_edges, N_packages)"
   ]
  },
  {
   "cell_type": "code",
   "execution_count": 6,
   "id": "e9f19654",
   "metadata": {},
   "outputs": [],
   "source": [
    "from task_allocation_layer.task_allocation import *"
   ]
  },
  {
   "cell_type": "code",
   "execution_count": 7,
   "id": "bf0b78d7",
   "metadata": {},
   "outputs": [
    {
     "name": "stdout",
     "output_type": "stream",
     "text": [
      "do task allocation\n",
      "task allocation done\n"
     ]
    },
    {
     "name": "stderr",
     "output_type": "stream",
     "text": [
      "/Users/luzy6/PycharmProjects/UAV_mission_assignment_and_path_planning/task_allocation_layer/task_allocation.py:133: OptimizeWarning: Sparse constraint matrix detected; setting 'sparse':True.\n",
      "  res = linprog(c=cost_vector, A_ub=A_ub, b_ub=b_ub, A_eq=A_eq, b_eq=b_eq,\n",
      "/Users/luzy6/miniforge3/envs/UAV/lib/python3.9/site-packages/scipy/optimize/_linprog_util.py:843: OptimizeWarning: A_eq does not appear to be of full row rank. To improve performance, check the problem formulation for redundant equality constraints.\n",
      "  warn(redundancy_warning, OptimizeWarning, stacklevel=1)\n"
     ]
    }
   ],
   "source": [
    "def dist(a, b, TG=TG):\n",
    "    lat1 = TG.nodes[a]['lat']\n",
    "    lon1 = TG.nodes[a]['lon']\n",
    "    lat2 = TG.nodes[b]['lat']\n",
    "    lon2 = TG.nodes[b]['lon']\n",
    "    #     print(\"node\",a,lon1,lat1,\"to node\",b,lon2,lat2,\" liner distance:\",haversine(lon1, lat1, lon2, lat2))\n",
    "    #     print(haversine(lon1, lat1, lon2, lat2))\n",
    "    #     print(lat1, lon1, lat2, lon2)\n",
    "    return haversine(lon1, lat1, lon2, lat2)\n",
    "\n",
    "\n",
    "# update other parameters\n",
    "total_nodes = len(TG.nodes)\n",
    "N_transits = len(transit_node)\n",
    "\n",
    "# we get transit node, package node and depot node, now we store the rest nodes are normal node\n",
    "normal_node = np.array([])\n",
    "for i in range(len(TG.nodes())):\n",
    "    if i not in depots_node and i not in transit_node and i not in packages_node:\n",
    "        normal_node = np.append(normal_node, i)\n",
    "\n",
    "print(\"do task allocation\")\n",
    "drone_tours = task_allocation(total_nodes, N_depots, N_packages, N_drones,\n",
    "                                                                    cost_matrix, depots_node, transit_node,\n",
    "                                                                    packages_node, normal_node)"
   ]
  },
  {
   "cell_type": "code",
   "execution_count": 8,
   "id": "2e2eefd9",
   "metadata": {},
   "outputs": [],
   "source": [
    "# find each drones route\n",
    "drone_routes = []\n",
    "for i in range(len(drone_tours)):\n",
    "    cur_route = [drone_tours[i][0]]\n",
    "    #     print(\"drone\", i, \"route:\")\n",
    "    for (node1, node2) in zip(drone_tours[i][:len(drone_tours[i]) - 1], drone_tours[i][1:]):\n",
    "        cur_route.extend(nx.astar_path(TG, node1, node2, dist)[1:])\n",
    "    #         print(nx.astar_path(TG, node1, node2, dist))\n",
    "    drone_routes.append(cur_route)"
   ]
  },
  {
   "cell_type": "code",
   "execution_count": 9,
   "id": "69f2ee2c",
   "metadata": {},
   "outputs": [],
   "source": [
    "# 生成初始传输点限制\n",
    "transit_constrain = {}\n",
    "for transit in transit_node:\n",
    "    transit_constrain[transit] = []"
   ]
  },
  {
   "cell_type": "code",
   "execution_count": 10,
   "id": "39f24d1b",
   "metadata": {},
   "outputs": [],
   "source": [
    "from main import *"
   ]
  },
  {
   "cell_type": "code",
   "execution_count": 11,
   "id": "d1e46b35",
   "metadata": {},
   "outputs": [
    {
     "name": "stdout",
     "output_type": "stream",
     "text": [
      "false plan by astar\n",
      "false plan by astar\n",
      "false plan by astar\n",
      "false plan by astar\n",
      "false plan by astar\n",
      "false plan by astar\n",
      "false plan by astar\n",
      "false plan by astar\n",
      "false plan by astar\n",
      "false plan by astar\n"
     ]
    }
   ],
   "source": [
    "total_task = 0\n",
    "Max_flight = 400\n",
    "for tour in drone_tours:\n",
    "    total_task += len(tour) - 1\n",
    "task_plan = 0\n",
    "index = 0\n",
    "drone_route_plans = [[] for _ in range(len(drone_tours))]\n",
    "drone_route_time_stamp = [[] for _ in range(len(drone_tours))]\n",
    "drone_start_time = [0 for _ in range(len(drone_tours))]\n",
    "fail_package_by_astar = []\n",
    "while task_plan < total_task:\n",
    "    for i in range(len(drone_tours)):\n",
    "        if index + 1 >= len(drone_tours[i]):\n",
    "            continue\n",
    "        start, end = drone_tours[i][index], drone_tours[i][index + 1]\n",
    "        success, departure_route, departure_time_stamp, departure_time = one_drone_dilivery_departure_route_by_astar(\n",
    "            TG, transit_constrain, transit_node, transit_edges, start, end, Max_flight, drone_start_time[i])\n",
    "        #         print(drone_tours[i][index], drone_tours[i][index+1])\n",
    "        if success:\n",
    "            drone_route_plans[i].append(departure_route)\n",
    "            drone_route_time_stamp[i].append(departure_time_stamp)\n",
    "            drone_start_time[i] = departure_time_stamp[-1]\n",
    "        else:\n",
    "            drone_route_plans[i].append([])\n",
    "            drone_route_time_stamp[i].append([0])\n",
    "            if end in packages_node:\n",
    "                fail_package_by_astar.append(end)\n",
    "        task_plan += 1\n",
    "    index += 1\n",
    "# return drone_route_plans, drone_route_time_stamp"
   ]
  },
  {
   "cell_type": "code",
   "execution_count": 16,
   "id": "eb4a723b",
   "metadata": {},
   "outputs": [
    {
     "data": {
      "text/plain": [
       "[211.0, 208.0, 182.0]"
      ]
     },
     "execution_count": 16,
     "metadata": {},
     "output_type": "execute_result"
    }
   ],
   "source": [
    "fail_package_by_astar"
   ]
  },
  {
   "cell_type": "code",
   "execution_count": 101,
   "id": "c24293fa",
   "metadata": {},
   "outputs": [],
   "source": [
    "fail_package_by_direct_flight = set([])"
   ]
  },
  {
   "cell_type": "code",
   "execution_count": 102,
   "id": "1b39f14a",
   "metadata": {},
   "outputs": [],
   "source": [
    "def haversine(lon1, lat1, lon2, lat2):  # 经度1，纬度1，经度2，纬度2 （十进制度数）\n",
    "    \"\"\"\n",
    "    Calculate the great circle distance between two points\n",
    "    on the earth (specified in decimal degrees)\n",
    "    \"\"\"\n",
    "    # 将十进制度数转化为弧度\n",
    "    lon1, lat1, lon2, lat2 = map(radians, [lon1, lat1, lon2, lat2])\n",
    "\n",
    "    # haversine公式\n",
    "    dlon = lon2 - lon1\n",
    "    dlat = lat2 - lat1\n",
    "    a = sin(dlat / 2) ** 2 + cos(lat1) * cos(lat2) * sin(dlon / 2) ** 2\n",
    "    c = 2 * asin(sqrt(a))\n",
    "    r = 6371  # 地球平均半径，单位为公里\n",
    "    return c * r * 1000"
   ]
  },
  {
   "cell_type": "code",
   "execution_count": 103,
   "id": "bb15069c",
   "metadata": {},
   "outputs": [],
   "source": [
    "def search_direct_flight(TG, start, end, Max_flight):\n",
    "    flight_cost = haversine(TG.nodes[start]['lon'], TG.nodes[start]['lat'], TG.nodes[end]['lon'], TG.nodes[end]['lat'])\n",
    "    \n",
    "    if flight_cost > Max_flight:\n",
    "#         print(start, \"to \", end, \"line \", flight_cost)\n",
    "#         print(\"false\")\n",
    "        return False\n",
    "#     print(\"true\")\n",
    "    return True"
   ]
  },
  {
   "cell_type": "code",
   "execution_count": 104,
   "id": "478b7cec",
   "metadata": {},
   "outputs": [],
   "source": [
    "index = 0\n",
    "task_plan = 0\n",
    "Max_flight = 400\n",
    "while task_plan < total_task:\n",
    "    for i in range(len(drone_tours)):\n",
    "        if index + 1 >= len(drone_tours[i]):\n",
    "            continue\n",
    "        start, end = drone_tours[i][index], drone_tours[i][index + 1]\n",
    "        success = search_direct_flight(TG, start, end, Max_flight)\n",
    "        if success == False:\n",
    "            if end in packages_node:\n",
    "#                 print(start, \"fail to \", end)\n",
    "                fail_package_by_direct_flight.add(end)\n",
    "        task_plan += 1\n",
    "    index += 1"
   ]
  },
  {
   "cell_type": "code",
   "execution_count": 105,
   "id": "cd1b9473",
   "metadata": {},
   "outputs": [
    {
     "data": {
      "text/plain": [
       "{4.0,\n",
       " 9.0,\n",
       " 28.0,\n",
       " 50.0,\n",
       " 120.0,\n",
       " 122.0,\n",
       " 126.0,\n",
       " 127.0,\n",
       " 129.0,\n",
       " 147.0,\n",
       " 182.0,\n",
       " 185.0,\n",
       " 192.0,\n",
       " 200.0,\n",
       " 203.0,\n",
       " 208.0,\n",
       " 211.0,\n",
       " 212.0}"
      ]
     },
     "execution_count": 105,
     "metadata": {},
     "output_type": "execute_result"
    }
   ],
   "source": [
    "fail_package_by_direct_flight"
   ]
  },
  {
   "cell_type": "code",
   "execution_count": 106,
   "id": "a4830594",
   "metadata": {},
   "outputs": [
    {
     "data": {
      "text/plain": [
       "18"
      ]
     },
     "execution_count": 106,
     "metadata": {},
     "output_type": "execute_result"
    }
   ],
   "source": [
    "len(fail_package_by_direct_flight)"
   ]
  },
  {
   "cell_type": "code",
   "execution_count": 107,
   "id": "621a62b0",
   "metadata": {},
   "outputs": [],
   "source": [
    "fail_package_by_single_hop = set([])"
   ]
  },
  {
   "cell_type": "code",
   "execution_count": 108,
   "id": "b9767d9a",
   "metadata": {},
   "outputs": [],
   "source": [
    "def search_single_hop(TG, start, end, transit_edges, Max_flight):\n",
    "    car_speed = 15.0\n",
    "    drone_speed = 20.0\n",
    "    select_edge = (-1, -1)\n",
    "    min_time = Max_flight + 1\n",
    "    for edge in transit_edges:\n",
    "        flight_cost =  haversine(TG.nodes[start]['lon'], TG.nodes[start]['lat'], TG.nodes[edge[0]]['lon'], TG.nodes[edge[0]]['lat'])+ haversine(TG.nodes[end]['lon'], TG.nodes[end]['lat'], TG.nodes[edge[1]]['lon'], TG.nodes[edge[1]]['lat']) \n",
    "                        \n",
    "        if flight_cost < Max_flight:\n",
    "            use_time = flight_cost/drone_speed + TG.edges[edge]['weight']/car_speed\n",
    "            if min_time > use_time:\n",
    "                select_edge = (edge[0], edge[1])\n",
    "                min_time = use_time\n",
    "        flight_cost =  haversine(TG.nodes[start]['lon'], TG.nodes[start]['lat'], TG.nodes[edge[1]]['lon'], TG.nodes[edge[1]]['lat']) +haversine(TG.nodes[end]['lon'], TG.nodes[end]['lat'], TG.nodes[edge[0]]['lon'], TG.nodes[edge[0]]['lat']) \n",
    "                        \n",
    "        if flight_cost < Max_flight:\n",
    "            use_time = flight_cost/drone_speed + TG.edges[edge]['weight']/car_speed\n",
    "            if min_time > use_time:\n",
    "                select_edge = (edge[0], edge[1])\n",
    "                min_time = use_time\n",
    "    if min_time <= Max_flight:\n",
    "        return True, select_edge\n",
    "    return False, select_edge\n"
   ]
  },
  {
   "cell_type": "code",
   "execution_count": 109,
   "id": "7026e37a",
   "metadata": {},
   "outputs": [],
   "source": [
    "index = 0\n",
    "task_plan = 0\n",
    "Max_flight = 400\n",
    "while task_plan < total_task:\n",
    "    for i in range(len(drone_tours)):\n",
    "        if index + 1 >= len(drone_tours[i]):\n",
    "            continue\n",
    "        start, end = drone_tours[i][index], drone_tours[i][index + 1]\n",
    "        success, select_edge = search_single_hop(TG, start, end, transit_edges, Max_flight)\n",
    "        if success == False:\n",
    "            if end in packages_node:\n",
    "#                 print(start, \"fail to \", end)\n",
    "                fail_package_by_single_hop.add(end)\n",
    "        task_plan += 1\n",
    "    index += 1"
   ]
  },
  {
   "cell_type": "code",
   "execution_count": 111,
   "id": "f191fa2a",
   "metadata": {},
   "outputs": [
    {
     "data": {
      "text/plain": [
       "9"
      ]
     },
     "execution_count": 111,
     "metadata": {},
     "output_type": "execute_result"
    }
   ],
   "source": [
    "len(fail_package_by_single_hop)"
   ]
  },
  {
   "cell_type": "code",
   "execution_count": 112,
   "id": "3e56ad07",
   "metadata": {},
   "outputs": [
    {
     "data": {
      "text/plain": [
       "{4.0, 28.0, 182.0, 185.0, 192.0, 200.0, 203.0, 208.0, 211.0}"
      ]
     },
     "execution_count": 112,
     "metadata": {},
     "output_type": "execute_result"
    }
   ],
   "source": [
    "fail_package_by_single_hop"
   ]
  },
  {
   "cell_type": "code",
   "execution_count": null,
   "id": "9d5ee788",
   "metadata": {},
   "outputs": [],
   "source": []
  }
 ],
 "metadata": {
  "kernelspec": {
   "display_name": "Python [conda env:UAV]",
   "language": "python",
   "name": "conda-env-UAV-py"
  },
  "language_info": {
   "codemirror_mode": {
    "name": "ipython",
    "version": 3
   },
   "file_extension": ".py",
   "mimetype": "text/x-python",
   "name": "python",
   "nbconvert_exporter": "python",
   "pygments_lexer": "ipython3",
   "version": "3.9.12"
  }
 },
 "nbformat": 4,
 "nbformat_minor": 5
}
