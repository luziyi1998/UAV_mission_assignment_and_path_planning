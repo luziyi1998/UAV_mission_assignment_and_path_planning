{
 "cells": [
  {
   "cell_type": "code",
   "execution_count": 3,
   "id": "d82980a8",
   "metadata": {},
   "outputs": [],
   "source": [
    "from graph.generate_graph import *\n",
    "from task_allocation_layer.task_allocation import *"
   ]
  },
  {
   "cell_type": "code",
   "execution_count": 4,
   "id": "74617d8f",
   "metadata": {},
   "outputs": [],
   "source": [
    "#parameters\n",
    "N_depots = 3"
   ]
  },
  {
   "cell_type": "code",
   "execution_count": 5,
   "id": "e774b6ce",
   "metadata": {},
   "outputs": [
    {
     "ename": "NameError",
     "evalue": "name 'return_Digraph' is not defined",
     "output_type": "error",
     "traceback": [
      "\u001b[0;31m---------------------------------------------------------------------------\u001b[0m",
      "\u001b[0;31mNameError\u001b[0m                                 Traceback (most recent call last)",
      "Input \u001b[0;32mIn [5]\u001b[0m, in \u001b[0;36m<cell line: 2>\u001b[0;34m()\u001b[0m\n\u001b[1;32m      1\u001b[0m \u001b[38;5;66;03m# get a graph that randomly generate depot nodes, transit nodes and package nodes and cost_matrix\u001b[39;00m\n\u001b[0;32m----> 2\u001b[0m depot_drone_transit_graph, depots_node, transit_node, packages_node, cost_matrix \u001b[38;5;241m=\u001b[39m \u001b[43mreturn_Digraph\u001b[49m(N_depots)\n",
      "\u001b[0;31mNameError\u001b[0m: name 'return_Digraph' is not defined"
     ]
    }
   ],
   "source": [
    "# get a graph that randomly generate depot nodes, transit nodes and package nodes and cost_matrix\n",
    "depot_drone_transit_graph, depots_node, transit_node, packages_node, cost_matrix = return_Digraph(N_depots)"
   ]
  },
  {
   "cell_type": "code",
   "execution_count": null,
   "id": "817da576",
   "metadata": {},
   "outputs": [],
   "source": []
  }
 ],
 "metadata": {
  "kernelspec": {
   "display_name": "Python [conda env:UAV]",
   "language": "python",
   "name": "conda-env-UAV-py"
  },
  "language_info": {
   "codemirror_mode": {
    "name": "ipython",
    "version": 3
   },
   "file_extension": ".py",
   "mimetype": "text/x-python",
   "name": "python",
   "nbconvert_exporter": "python",
   "pygments_lexer": "ipython3",
   "version": "3.9.12"
  }
 },
 "nbformat": 4,
 "nbformat_minor": 5
}
