{
 "cells": [
  {
   "cell_type": "code",
   "execution_count": 3,
   "id": "3b218c3b",
   "metadata": {},
   "outputs": [],
   "source": [
    "from main import *"
   ]
  },
  {
   "cell_type": "code",
   "execution_count": 10,
   "id": "32439e53",
   "metadata": {},
   "outputs": [
    {
     "data": {
      "text/plain": [
       "<module 'main' from '/Users/luzy6/PycharmProjects/UAV_mission_assignment_and_path_planning/main.py'>"
      ]
     },
     "execution_count": 10,
     "metadata": {},
     "output_type": "execute_result"
    }
   ],
   "source": [
    "import imp\n",
    "imp.reload(main)"
   ]
  },
  {
   "cell_type": "code",
   "execution_count": 11,
   "id": "7864c1b4",
   "metadata": {},
   "outputs": [],
   "source": [
    "# paramete\n",
    "N_depots = 4\n",
    "N_drones = 20\n",
    "N_packages = 60\n",
    "N_transit_edges = 20\n",
    "Max_flight = 500"
   ]
  },
  {
   "cell_type": "code",
   "execution_count": 12,
   "id": "eb829b9f",
   "metadata": {},
   "outputs": [
    {
     "ename": "TypeError",
     "evalue": "UAV_task_allocation_path_planning() takes 4 positional arguments but 5 were given",
     "output_type": "error",
     "traceback": [
      "\u001b[0;31m---------------------------------------------------------------------------\u001b[0m",
      "\u001b[0;31mTypeError\u001b[0m                                 Traceback (most recent call last)",
      "Input \u001b[0;32mIn [12]\u001b[0m, in \u001b[0;36m<cell line: 1>\u001b[0;34m()\u001b[0m\n\u001b[0;32m----> 1\u001b[0m drone_one_dilivery_route, drone_one_delivery_time_stamp, drone_one_dilivery_time, fail_packages \u001b[38;5;241m=\u001b[39m \u001b[43mUAV_task_allocation_path_planning\u001b[49m\u001b[43m(\u001b[49m\u001b[43mN_depots\u001b[49m\u001b[43m,\u001b[49m\u001b[43m \u001b[49m\u001b[43mN_transit_edges\u001b[49m\u001b[43m,\u001b[49m\u001b[43m \u001b[49m\u001b[43mN_packages\u001b[49m\u001b[43m,\u001b[49m\u001b[43m \u001b[49m\u001b[43mN_drones\u001b[49m\u001b[43m,\u001b[49m\u001b[43m \u001b[49m\u001b[43mMax_flight\u001b[49m\u001b[43m)\u001b[49m\n",
      "\u001b[0;31mTypeError\u001b[0m: UAV_task_allocation_path_planning() takes 4 positional arguments but 5 were given"
     ]
    }
   ],
   "source": [
    "drone_one_dilivery_route, drone_one_delivery_time_stamp, drone_one_dilivery_time, fail_packages = UAV_task_allocation_path_planning(N_depots, N_transit_edges, N_packages, N_drones, Max_flight)\n"
   ]
  },
  {
   "cell_type": "code",
   "execution_count": null,
   "id": "d4de9351",
   "metadata": {},
   "outputs": [],
   "source": []
  }
 ],
 "metadata": {
  "kernelspec": {
   "display_name": "Python [conda env:UAV]",
   "language": "python",
   "name": "conda-env-UAV-py"
  },
  "language_info": {
   "codemirror_mode": {
    "name": "ipython",
    "version": 3
   },
   "file_extension": ".py",
   "mimetype": "text/x-python",
   "name": "python",
   "nbconvert_exporter": "python",
   "pygments_lexer": "ipython3",
   "version": "3.9.12"
  }
 },
 "nbformat": 4,
 "nbformat_minor": 5
}
