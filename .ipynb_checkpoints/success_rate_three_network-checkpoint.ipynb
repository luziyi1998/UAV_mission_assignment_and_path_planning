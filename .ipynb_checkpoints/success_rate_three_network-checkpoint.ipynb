{
 "cells": [
  {
   "cell_type": "code",
   "execution_count": 8,
   "id": "95f5a7a0",
   "metadata": {},
   "outputs": [],
   "source": [
    "from graph.generate_graph import *"
   ]
  },
  {
   "cell_type": "code",
   "execution_count": 9,
   "id": "ecf54849",
   "metadata": {},
   "outputs": [],
   "source": [
    "#parameters\n",
    "N_depots = 1\n",
    "N_drones = 20\n",
    "N_packages = 60\n",
    "N_transit_edges = 80\n",
    "Max_flight = 200"
   ]
  },
  {
   "cell_type": "code",
   "execution_count": 10,
   "id": "2491b46f",
   "metadata": {},
   "outputs": [],
   "source": [
    "TG, depots_node, transit_node, packages_node, transit_edges, cost_matrix = return_Digraph(N_depots, N_transit_edges, N_packages)"
   ]
  },
  {
   "cell_type": "code",
   "execution_count": 11,
   "id": "e9f19654",
   "metadata": {},
   "outputs": [],
   "source": [
    "from task_allocation_layer.task_allocation import *"
   ]
  },
  {
   "cell_type": "code",
   "execution_count": 5,
   "id": "bf0b78d7",
   "metadata": {},
   "outputs": [
    {
     "name": "stdout",
     "output_type": "stream",
     "text": [
      "do task allocation\n"
     ]
    },
    {
     "name": "stderr",
     "output_type": "stream",
     "text": [
      "/Users/luzy6/PycharmProjects/UAV_mission_assignment_and_path_planning/task_allocation_layer/task_allocation.py:133: OptimizeWarning: Sparse constraint matrix detected; setting 'sparse':True.\n",
      "  res = linprog(c=cost_vector, A_ub=A_ub, b_ub=b_ub, A_eq=A_eq, b_eq=b_eq,\n"
     ]
    }
   ],
   "source": [
    "def dist(a, b, TG=TG):\n",
    "    lat1 = TG.nodes[a]['lat']\n",
    "    lon1 = TG.nodes[a]['lon']\n",
    "    lat2 = TG.nodes[b]['lat']\n",
    "    lon2 = TG.nodes[b]['lon']\n",
    "    #     print(\"node\",a,lon1,lat1,\"to node\",b,lon2,lat2,\" liner distance:\",haversine(lon1, lat1, lon2, lat2))\n",
    "    #     print(haversine(lon1, lat1, lon2, lat2))\n",
    "    #     print(lat1, lon1, lat2, lon2)\n",
    "    return haversine(lon1, lat1, lon2, lat2)\n",
    "\n",
    "\n",
    "# update other parameters\n",
    "total_nodes = len(TG.nodes)\n",
    "N_transits = len(transit_node)\n",
    "\n",
    "# we get transit node, package node and depot node, now we store the rest nodes are normal node\n",
    "normal_node = np.array([])\n",
    "for i in range(len(TG.nodes())):\n",
    "    if i not in depots_node and i not in transit_node and i not in packages_node:\n",
    "        normal_node = np.append(normal_node, i)\n",
    "\n",
    "print(\"do task allocation\")\n",
    "drone_tours = task_allocation(total_nodes, N_depots, N_packages, N_drones,\n",
    "                                                                    cost_matrix, depots_node, transit_node,\n",
    "                                                                    packages_node, normal_node)"
   ]
  },
  {
   "cell_type": "code",
   "execution_count": 6,
   "id": "2e2eefd9",
   "metadata": {},
   "outputs": [],
   "source": [
    "# find each drones route\n",
    "drone_routes = []\n",
    "for i in range(len(drone_tours)):\n",
    "    cur_route = [drone_tours[i][0]]\n",
    "    #     print(\"drone\", i, \"route:\")\n",
    "    for (node1, node2) in zip(drone_tours[i][:len(drone_tours[i]) - 1], drone_tours[i][1:]):\n",
    "        cur_route.extend(nx.astar_path(TG, node1, node2, dist)[1:])\n",
    "    #         print(nx.astar_path(TG, node1, node2, dist))\n",
    "    drone_routes.append(cur_route)"
   ]
  },
  {
   "cell_type": "code",
   "execution_count": 7,
   "id": "69f2ee2c",
   "metadata": {},
   "outputs": [],
   "source": [
    "# 生成初始传输点限制\n",
    "transit_constrain = {}\n",
    "for transit in transit_node:\n",
    "    transit_constrain[transit] = []"
   ]
  },
  {
   "cell_type": "code",
   "execution_count": 8,
   "id": "39f24d1b",
   "metadata": {},
   "outputs": [],
   "source": [
    "from main import *"
   ]
  },
  {
   "cell_type": "code",
   "execution_count": 9,
   "id": "d1e46b35",
   "metadata": {},
   "outputs": [
    {
     "ename": "TypeError",
     "evalue": "object of type 'generator' has no len()",
     "output_type": "error",
     "traceback": [
      "\u001b[0;31m---------------------------------------------------------------------------\u001b[0m",
      "\u001b[0;31mTypeError\u001b[0m                                 Traceback (most recent call last)",
      "Input \u001b[0;32mIn [9]\u001b[0m, in \u001b[0;36m<cell line: 10>\u001b[0;34m()\u001b[0m\n\u001b[1;32m     13\u001b[0m     \u001b[38;5;28;01mcontinue\u001b[39;00m\n\u001b[1;32m     14\u001b[0m start, end \u001b[38;5;241m=\u001b[39m drone_tours[i][index], drone_tours[i][index \u001b[38;5;241m+\u001b[39m \u001b[38;5;241m1\u001b[39m]\n\u001b[0;32m---> 15\u001b[0m success, departure_route, departure_time_stamp, departure_time \u001b[38;5;241m=\u001b[39m \u001b[43mone_drone_dilivery_departure_route_by_astar\u001b[49m\u001b[43m(\u001b[49m\n\u001b[1;32m     16\u001b[0m \u001b[43m    \u001b[49m\u001b[43mTG\u001b[49m\u001b[43m,\u001b[49m\u001b[43m \u001b[49m\u001b[43mtransit_constrain\u001b[49m\u001b[43m,\u001b[49m\u001b[43m \u001b[49m\u001b[43mtransit_node\u001b[49m\u001b[43m,\u001b[49m\u001b[43m \u001b[49m\u001b[43mtransit_edges\u001b[49m\u001b[43m,\u001b[49m\u001b[43m \u001b[49m\u001b[43mstart\u001b[49m\u001b[43m,\u001b[49m\u001b[43m \u001b[49m\u001b[43mend\u001b[49m\u001b[43m,\u001b[49m\u001b[43m \u001b[49m\u001b[43mMax_flight\u001b[49m\u001b[43m,\u001b[49m\u001b[43m \u001b[49m\u001b[43mdrone_start_time\u001b[49m\u001b[43m[\u001b[49m\u001b[43mi\u001b[49m\u001b[43m]\u001b[49m\u001b[43m)\u001b[49m\n\u001b[1;32m     17\u001b[0m \u001b[38;5;66;03m#         print(drone_tours[i][index], drone_tours[i][index+1])\u001b[39;00m\n\u001b[1;32m     18\u001b[0m \u001b[38;5;28;01mif\u001b[39;00m success \u001b[38;5;241m==\u001b[39m \u001b[38;5;28;01mTrue\u001b[39;00m:\n",
      "File \u001b[0;32m~/PycharmProjects/UAV_mission_assignment_and_path_planning/main.py:234\u001b[0m, in \u001b[0;36mone_drone_dilivery_departure_route_by_astar\u001b[0;34m(TG, transit_constrain, transit_node, transit_edges, depot_id, package_id, Max_flight, start_time)\u001b[0m\n\u001b[1;32m    229\u001b[0m     \u001b[38;5;28;01mreturn\u001b[39;00m \u001b[38;5;28;01mTrue\u001b[39;00m, [depot_id, package_id], [start_time, start_time \u001b[38;5;241m+\u001b[39m direct_distance\u001b[38;5;241m/\u001b[39mdrone_speed], direct_distance\u001b[38;5;241m/\u001b[39mdrone_speed\n\u001b[1;32m    231\u001b[0m transit_network \u001b[38;5;241m=\u001b[39m MAPF\u001b[38;5;241m.\u001b[39msingle_drone_FP\u001b[38;5;241m.\u001b[39mgenerate_transit_network(TG, transit_node, transit_edges, depot_id,\n\u001b[1;32m    232\u001b[0m                                                                 package_id)\n\u001b[0;32m--> 234\u001b[0m \u001b[38;5;28mprint\u001b[39m(\u001b[38;5;124m\"\u001b[39m\u001b[38;5;124mconponents\u001b[39m\u001b[38;5;124m\"\u001b[39m, \u001b[38;5;28;43mlen\u001b[39;49m\u001b[43m(\u001b[49m\u001b[43mnx\u001b[49m\u001b[38;5;241;43m.\u001b[39;49m\u001b[43mconnected_components\u001b[49m\u001b[43m(\u001b[49m\u001b[43mtransit_network\u001b[49m\u001b[43m)\u001b[49m\u001b[43m)\u001b[49m)\n\u001b[1;32m    236\u001b[0m success, sub_mission_way, transit_wait \u001b[38;5;241m=\u001b[39m MAPF\u001b[38;5;241m.\u001b[39mAstar\u001b[38;5;241m.\u001b[39mastar_with_conflict_avoid(transit_network, transit_constrain, transit_edges, depot_id, package_id, Max_flight, start_time)\n\u001b[1;32m    237\u001b[0m \u001b[38;5;28;01mif\u001b[39;00m success \u001b[38;5;241m==\u001b[39m \u001b[38;5;28;01mFalse\u001b[39;00m:\n",
      "\u001b[0;31mTypeError\u001b[0m: object of type 'generator' has no len()"
     ]
    }
   ],
   "source": [
    "total_task = 0\n",
    "for tour in drone_tours:\n",
    "    total_task += len(tour) - 1\n",
    "task_plan = 0\n",
    "index = 0\n",
    "drone_route_plans = [[] for _ in range(len(drone_tours))]\n",
    "drone_route_time_stamp = [[] for _ in range(len(drone_tours))]\n",
    "drone_start_time = [0 for _ in range(len(drone_tours))]\n",
    "fail_package_by_astar = []\n",
    "while task_plan < total_task:\n",
    "    for i in range(len(drone_tours)):\n",
    "        if index + 1 >= len(drone_tours[i]):\n",
    "            continue\n",
    "        start, end = drone_tours[i][index], drone_tours[i][index + 1]\n",
    "        success, departure_route, departure_time_stamp, departure_time = one_drone_dilivery_departure_route_by_astar(\n",
    "            TG, transit_constrain, transit_node, transit_edges, start, end, Max_flight, drone_start_time[i])\n",
    "        #         print(drone_tours[i][index], drone_tours[i][index+1])\n",
    "        if success == True:\n",
    "            drone_route_plans[i].append(departure_route)\n",
    "            drone_route_time_stamp[i].append(departure_time_stamp)\n",
    "            drone_start_time[i] = departure_time_stamp[-1]\n",
    "        else:\n",
    "            drone_route_plans[i].append([])\n",
    "            drone_route_time_stamp[i].append([0])\n",
    "            if end in packages_node:\n",
    "                fail_package_by_astar.append(end)\n",
    "        task_plan += 1\n",
    "    index += 1\n",
    "# return drone_route_plans, drone_route_time_stamp"
   ]
  },
  {
   "cell_type": "code",
   "execution_count": 10,
   "id": "c24293fa",
   "metadata": {},
   "outputs": [],
   "source": [
    "fail_package_by_direct_flight = set([])"
   ]
  },
  {
   "cell_type": "code",
   "execution_count": 9,
   "id": "6af9326a",
   "metadata": {},
   "outputs": [],
   "source": [
    "def haversine(lon1, lat1, lon2, lat2):  # 经度1，纬度1，经度2，纬度2 （十进制度数）\n",
    "    \"\"\"\n",
    "    Calculate the great circle distance between two points\n",
    "    on the earth (specified in decimal degrees)\n",
    "    \"\"\"\n",
    "    # 将十进制度数转化为弧度\n",
    "    lon1, lat1, lon2, lat2 = map(radians, [lon1, lat1, lon2, lat2])\n",
    "\n",
    "    # haversine公式\n",
    "    dlon = lon2 - lon1\n",
    "    dlat = lat2 - lat1\n",
    "    a = sin(dlat / 2) ** 2 + cos(lat1) * cos(lat2) * sin(dlon / 2) ** 2\n",
    "    c = 2 * asin(sqrt(a))\n",
    "    r = 6371  # 地球平均半径，单位为公里\n",
    "    return c * r * 1000"
   ]
  },
  {
   "cell_type": "code",
   "execution_count": 10,
   "id": "9a60d912",
   "metadata": {},
   "outputs": [],
   "source": [
    "def search_direct_flight(TG, start, end, Max_flight):\n",
    "    flight_cost = haversine(TG.nodes[start]['lon'], TG.nodes[start]['lat'], TG.nodes[end]['lon'], TG.nodes[end]['lat'])\n",
    "    \n",
    "    if flight_cost > Max_flight:\n",
    "#         print(start, \"to \", end, \"line \", flight_cost)\n",
    "#         print(\"false\")\n",
    "        return False\n",
    "#     print(\"true\")\n",
    "    return True"
   ]
  },
  {
   "cell_type": "code",
   "execution_count": 13,
   "id": "2b421bdc",
   "metadata": {},
   "outputs": [],
   "source": [
    "index = 0\n",
    "task_plan = 0\n",
    "while task_plan < total_task:\n",
    "    for i in range(len(drone_tours)):\n",
    "        if index + 1 >= len(drone_tours[i]):\n",
    "            continue\n",
    "        start, end = drone_tours[i][index], drone_tours[i][index + 1]\n",
    "        success = search_direct_flight(TG, start, end, Max_flight)\n",
    "        if success == False:\n",
    "            if end in packages_node:\n",
    "#                 print(start, \"fail to \", end)\n",
    "                fail_package_by_direct_flight.add(end)\n",
    "        task_plan += 1\n",
    "    index += 1"
   ]
  },
  {
   "cell_type": "code",
   "execution_count": 14,
   "id": "8869eeea",
   "metadata": {},
   "outputs": [],
   "source": [
    "fail_package_by_single_hop = set([])"
   ]
  },
  {
   "cell_type": "code",
   "execution_count": 11,
   "id": "4bb33ba5",
   "metadata": {},
   "outputs": [],
   "source": [
    "def search_single_hop(TG, start, end, transit_edges, Max_flight):\n",
    "    car_speed = 15.0\n",
    "    drone_speed = 20.0\n",
    "    select_edge = (-1, -1)\n",
    "    min_time = Max_flight + 1\n",
    "    if haversine(TG.nodes[start]['lon'], TG.nodes[start]['lat'], TG.nodes[end]['lon'], TG.nodes[end]['lat']) <= Max_flight:\n",
    "        return True, select_edge\n",
    "    for edge in transit_edges:\n",
    "        flight_cost =  haversine(TG.nodes[start]['lon'], TG.nodes[start]['lat'], TG.nodes[edge[0]]['lon'], TG.nodes[edge[0]]['lat'])+ haversine(TG.nodes[end]['lon'], TG.nodes[end]['lat'], TG.nodes[edge[1]]['lon'], TG.nodes[edge[1]]['lat']) \n",
    "                        \n",
    "        if flight_cost < Max_flight:\n",
    "            use_time = flight_cost/drone_speed + TG.edges[edge]['weight']/car_speed\n",
    "            if min_time > use_time:\n",
    "                select_edge = (edge[0], edge[1])\n",
    "                min_time = use_time\n",
    "        flight_cost =  haversine(TG.nodes[start]['lon'], TG.nodes[start]['lat'], TG.nodes[edge[1]]['lon'], TG.nodes[edge[1]]['lat']) +haversine(TG.nodes[end]['lon'], TG.nodes[end]['lat'], TG.nodes[edge[0]]['lon'], TG.nodes[edge[0]]['lat']) \n",
    "                        \n",
    "        if flight_cost < Max_flight:\n",
    "            use_time = flight_cost/drone_speed + TG.edges[edge]['weight']/car_speed\n",
    "            if min_time > use_time:\n",
    "                select_edge = (edge[1], edge[0])\n",
    "                min_time = use_time\n",
    "    if min_time <= Max_flight:\n",
    "        return True, select_edge\n",
    "    return False, select_edge\n"
   ]
  },
  {
   "cell_type": "code",
   "execution_count": 16,
   "id": "74e376c9",
   "metadata": {},
   "outputs": [],
   "source": [
    "index = 0\n",
    "task_plan = 0\n",
    "while task_plan < total_task:\n",
    "    for i in range(len(drone_tours)):\n",
    "        if index + 1 >= len(drone_tours[i]):\n",
    "            continue\n",
    "        start, end = drone_tours[i][index], drone_tours[i][index + 1]\n",
    "        success, select_edge = search_single_hop(TG, start, end, transit_edges, Max_flight)\n",
    "        if success == False:\n",
    "            if end in packages_node:\n",
    "#                 print(start, \"fail to \", end)\n",
    "                fail_package_by_single_hop.add(end)\n",
    "        task_plan += 1\n",
    "    index += 1"
   ]
  },
  {
   "cell_type": "code",
   "execution_count": 17,
   "id": "1dd84753",
   "metadata": {},
   "outputs": [
    {
     "data": {
      "text/plain": [
       "33"
      ]
     },
     "execution_count": 17,
     "metadata": {},
     "output_type": "execute_result"
    }
   ],
   "source": [
    "len(fail_package_by_direct_flight)"
   ]
  },
  {
   "cell_type": "code",
   "execution_count": 18,
   "id": "9ffbd08b",
   "metadata": {},
   "outputs": [
    {
     "data": {
      "text/plain": [
       "31"
      ]
     },
     "execution_count": 18,
     "metadata": {},
     "output_type": "execute_result"
    }
   ],
   "source": [
    "len(fail_package_by_single_hop)"
   ]
  },
  {
   "cell_type": "code",
   "execution_count": 19,
   "id": "bac5a4e8",
   "metadata": {},
   "outputs": [
    {
     "data": {
      "text/plain": [
       "0"
      ]
     },
     "execution_count": 19,
     "metadata": {},
     "output_type": "execute_result"
    }
   ],
   "source": [
    "len(fail_package_by_astar)"
   ]
  },
  {
   "cell_type": "code",
   "execution_count": 20,
   "id": "e0f7af7a",
   "metadata": {},
   "outputs": [
    {
     "ename": "SyntaxError",
     "evalue": "invalid syntax (1101867406.py, line 1)",
     "output_type": "error",
     "traceback": [
      "\u001b[0;36m  Input \u001b[0;32mIn [20]\u001b[0;36m\u001b[0m\n\u001b[0;31m    len(fail_package_by_direct_flight):\u001b[0m\n\u001b[0m                                       ^\u001b[0m\n\u001b[0;31mSyntaxError\u001b[0m\u001b[0;31m:\u001b[0m invalid syntax\n"
     ]
    }
   ],
   "source": [
    "len(fail_package_by_direct_flight):\n",
    "len(fail_package_by_single_hop):\n",
    "len(fail_package_by_astar):"
   ]
  },
  {
   "cell_type": "code",
   "execution_count": 12,
   "id": "fcdb402b",
   "metadata": {},
   "outputs": [],
   "source": [
    "def conbine_all(N_depots = 1, N_drones = 20,N_packages = 60,N_transit_edges = 80,Max_flight = 200):\n",
    "    TG, depots_node, transit_node, packages_node, transit_edges, cost_matrix = return_Digraph(N_depots, N_transit_edges, N_packages)\n",
    "    def dist(a, b, TG=TG):\n",
    "        lat1 = TG.nodes[a]['lat']\n",
    "        lon1 = TG.nodes[a]['lon']\n",
    "        lat2 = TG.nodes[b]['lat']\n",
    "        lon2 = TG.nodes[b]['lon']\n",
    "        #     print(\"node\",a,lon1,lat1,\"to node\",b,lon2,lat2,\" liner distance:\",haversine(lon1, lat1, lon2, lat2))\n",
    "        #     print(haversine(lon1, lat1, lon2, lat2))\n",
    "        #     print(lat1, lon1, lat2, lon2)\n",
    "        return haversine(lon1, lat1, lon2, lat2)\n",
    "\n",
    "\n",
    "    # update other parameters\n",
    "    total_nodes = len(TG.nodes)\n",
    "    N_transits = len(transit_node)\n",
    "\n",
    "    # we get transit node, package node and depot node, now we store the rest nodes are normal node\n",
    "    normal_node = np.array([])\n",
    "    for i in range(len(TG.nodes())):\n",
    "        if i not in depots_node and i not in transit_node and i not in packages_node:\n",
    "            normal_node = np.append(normal_node, i)\n",
    "\n",
    "#     print(\"do task allocation\")\n",
    "    drone_tours = task_allocation(total_nodes, N_depots, N_packages, N_drones,\n",
    "                                                                        cost_matrix, depots_node, transit_node,\n",
    "                                                                        packages_node, normal_node)\n",
    "    \n",
    "        # find each drones route\n",
    "    drone_routes = []\n",
    "    for i in range(len(drone_tours)):\n",
    "        cur_route = [drone_tours[i][0]]\n",
    "        #     print(\"drone\", i, \"route:\")\n",
    "        for (node1, node2) in zip(drone_tours[i][:len(drone_tours[i]) - 1], drone_tours[i][1:]):\n",
    "            cur_route.extend(nx.astar_path(TG, node1, node2, dist)[1:])\n",
    "        #         print(nx.astar_path(TG, node1, node2, dist))\n",
    "        drone_routes.append(cur_route)\n",
    "        \n",
    "        # 生成初始传输点限制\n",
    "    transit_constrain = {}\n",
    "    for transit in transit_node:\n",
    "        transit_constrain[transit] = []\n",
    "\n",
    "    total_task = 0\n",
    "    for tour in drone_tours:\n",
    "        total_task += len(tour) - 1\n",
    "    task_plan = 0\n",
    "    index = 0\n",
    "    drone_route_plans = [[] for _ in range(len(drone_tours))]\n",
    "    drone_route_time_stamp = [[] for _ in range(len(drone_tours))]\n",
    "    drone_start_time = [0 for _ in range(len(drone_tours))]\n",
    "    fail_package_by_astar = set([])\n",
    "    while task_plan < total_task:\n",
    "        for i in range(len(drone_tours)):\n",
    "            if index + 1 >= len(drone_tours[i]):\n",
    "                continue\n",
    "            start, end = drone_tours[i][index], drone_tours[i][index + 1]\n",
    "            success, departure_route, departure_time_stamp, departure_time = one_drone_dilivery_departure_route_by_astar(\n",
    "                TG, transit_constrain, transit_node, transit_edges, start, end, Max_flight, drone_start_time[i])\n",
    "            #         print(drone_tours[i][index], drone_tours[i][index+1])\n",
    "            if success == True:\n",
    "                drone_route_plans[i].append(departure_route)\n",
    "                drone_route_time_stamp[i].append(departure_time_stamp)\n",
    "                drone_start_time[i] = departure_time_stamp[-1]\n",
    "            else:\n",
    "                drone_route_plans[i].append([])\n",
    "                drone_route_time_stamp[i].append([0])\n",
    "                if end in packages_node:\n",
    "                    fail_package_by_astar.add(end)\n",
    "            task_plan += 1\n",
    "        index += 1\n",
    "    # return drone_route_plans, drone_route_time_stamp\n",
    "    \n",
    "    fail_package_by_direct_flight = set([])\n",
    "    \n",
    "    index = 0\n",
    "    task_plan = 0\n",
    "    while task_plan < total_task:\n",
    "        for i in range(len(drone_tours)):\n",
    "            if index + 1 >= len(drone_tours[i]):\n",
    "                continue\n",
    "            start, end = drone_tours[i][index], drone_tours[i][index + 1]\n",
    "            success = search_direct_flight(TG, start, end, Max_flight)\n",
    "            if success == False:\n",
    "                if end in packages_node:\n",
    "    #                 print(start, \"fail to \", end)\n",
    "                    fail_package_by_direct_flight.add(end)\n",
    "            task_plan += 1\n",
    "        index += 1\n",
    "        \n",
    "    fail_package_by_single_hop = set([])\n",
    "    \n",
    "    index = 0\n",
    "    task_plan = 0\n",
    "    while task_plan < total_task:\n",
    "        for i in range(len(drone_tours)):\n",
    "            if index + 1 >= len(drone_tours[i]):\n",
    "                continue\n",
    "            start, end = drone_tours[i][index], drone_tours[i][index + 1]\n",
    "            success, select_edge = search_single_hop(TG, start, end, transit_edges, Max_flight)\n",
    "            if success == False:\n",
    "                if end in packages_node:\n",
    "    #                 print(start, \"fail to \", end)\n",
    "                    fail_package_by_single_hop.add(end)\n",
    "            task_plan += 1\n",
    "        index += 1\n",
    "    \n",
    "    return len(fail_package_by_direct_flight)/N_packages, len(fail_package_by_single_hop)/N_packages, len(fail_package_by_astar)/N_packages"
   ]
  },
  {
   "cell_type": "code",
   "execution_count": 13,
   "id": "2fb8b69a",
   "metadata": {},
   "outputs": [],
   "source": [
    "import time"
   ]
  },
  {
   "cell_type": "code",
   "execution_count": null,
   "id": "d68fc8fc",
   "metadata": {},
   "outputs": [],
   "source": [
    "from main import *"
   ]
  },
  {
   "cell_type": "code",
   "execution_count": 14,
   "id": "4977966f",
   "metadata": {},
   "outputs": [
    {
     "name": "stderr",
     "output_type": "stream",
     "text": [
      "/Users/luzy6/PycharmProjects/UAV_mission_assignment_and_path_planning/task_allocation_layer/task_allocation.py:133: OptimizeWarning: Sparse constraint matrix detected; setting 'sparse':True.\n",
      "  res = linprog(c=cost_vector, A_ub=A_ub, b_ub=b_ub, A_eq=A_eq, b_eq=b_eq,\n"
     ]
    },
    {
     "ename": "NameError",
     "evalue": "name 'one_drone_dilivery_departure_route_by_astar' is not defined",
     "output_type": "error",
     "traceback": [
      "\u001b[0;31m---------------------------------------------------------------------------\u001b[0m",
      "\u001b[0;31mNameError\u001b[0m                                 Traceback (most recent call last)",
      "Input \u001b[0;32mIn [14]\u001b[0m, in \u001b[0;36m<cell line: 2>\u001b[0;34m()\u001b[0m\n\u001b[1;32m      1\u001b[0m start_time \u001b[38;5;241m=\u001b[39m time\u001b[38;5;241m.\u001b[39mtime()\n\u001b[0;32m----> 2\u001b[0m a,b,c \u001b[38;5;241m=\u001b[39m \u001b[43mconbine_all\u001b[49m\u001b[43m(\u001b[49m\u001b[43mN_depots\u001b[49m\u001b[43m \u001b[49m\u001b[38;5;241;43m=\u001b[39;49m\u001b[43m \u001b[49m\u001b[38;5;241;43m1\u001b[39;49m\u001b[43m,\u001b[49m\u001b[43m \u001b[49m\u001b[43mN_drones\u001b[49m\u001b[43m \u001b[49m\u001b[38;5;241;43m=\u001b[39;49m\u001b[43m \u001b[49m\u001b[38;5;241;43m20\u001b[39;49m\u001b[43m,\u001b[49m\u001b[43mN_packages\u001b[49m\u001b[43m \u001b[49m\u001b[38;5;241;43m=\u001b[39;49m\u001b[43m \u001b[49m\u001b[38;5;241;43m60\u001b[39;49m\u001b[43m,\u001b[49m\u001b[43mN_transit_edges\u001b[49m\u001b[43m \u001b[49m\u001b[38;5;241;43m=\u001b[39;49m\u001b[43m \u001b[49m\u001b[38;5;241;43m40\u001b[39;49m\u001b[43m,\u001b[49m\u001b[43mMax_flight\u001b[49m\u001b[43m \u001b[49m\u001b[38;5;241;43m=\u001b[39;49m\u001b[43m \u001b[49m\u001b[38;5;241;43m100\u001b[39;49m\u001b[43m)\u001b[49m\n\u001b[1;32m      3\u001b[0m end_time \u001b[38;5;241m=\u001b[39m time\u001b[38;5;241m.\u001b[39mtime()\n\u001b[1;32m      4\u001b[0m \u001b[38;5;28mprint\u001b[39m(\u001b[38;5;124m\"\u001b[39m\u001b[38;5;124mtooks \u001b[39m\u001b[38;5;132;01m%f\u001b[39;00m\u001b[38;5;124m seconds\u001b[39m\u001b[38;5;124m\"\u001b[39m\u001b[38;5;241m%\u001b[39m (end_time \u001b[38;5;241m-\u001b[39m start_time))\n",
      "Input \u001b[0;32mIn [12]\u001b[0m, in \u001b[0;36mconbine_all\u001b[0;34m(N_depots, N_drones, N_packages, N_transit_edges, Max_flight)\u001b[0m\n\u001b[1;32m     56\u001b[0m     \u001b[38;5;28;01mcontinue\u001b[39;00m\n\u001b[1;32m     57\u001b[0m start, end \u001b[38;5;241m=\u001b[39m drone_tours[i][index], drone_tours[i][index \u001b[38;5;241m+\u001b[39m \u001b[38;5;241m1\u001b[39m]\n\u001b[0;32m---> 58\u001b[0m success, departure_route, departure_time_stamp, departure_time \u001b[38;5;241m=\u001b[39m \u001b[43mone_drone_dilivery_departure_route_by_astar\u001b[49m(\n\u001b[1;32m     59\u001b[0m     TG, transit_constrain, transit_node, transit_edges, start, end, Max_flight, drone_start_time[i])\n\u001b[1;32m     60\u001b[0m \u001b[38;5;66;03m#         print(drone_tours[i][index], drone_tours[i][index+1])\u001b[39;00m\n\u001b[1;32m     61\u001b[0m \u001b[38;5;28;01mif\u001b[39;00m success \u001b[38;5;241m==\u001b[39m \u001b[38;5;28;01mTrue\u001b[39;00m:\n",
      "\u001b[0;31mNameError\u001b[0m: name 'one_drone_dilivery_departure_route_by_astar' is not defined"
     ]
    }
   ],
   "source": [
    "start_time = time.time()\n",
    "a,b,c = conbine_all(N_depots = 1, N_drones = 20,N_packages = 60,N_transit_edges = 40,Max_flight = 100)\n",
    "end_time = time.time()\n",
    "print(\"tooks %f seconds\"% (end_time - start_time))"
   ]
  },
  {
   "cell_type": "code",
   "execution_count": 13,
   "id": "542ad6ec",
   "metadata": {},
   "outputs": [],
   "source": [
    "Num_transit = [0, 10, 20, 30, 40, 50, 60, 70, 80, 90]\n",
    "fail_rate = []\n",
    "sample_time = 10"
   ]
  },
  {
   "cell_type": "code",
   "execution_count": 14,
   "id": "c77ea7f1",
   "metadata": {},
   "outputs": [
    {
     "name": "stdout",
     "output_type": "stream",
     "text": [
      "h1 {6.0: 0}  h2 {6.0: 0}\n"
     ]
    },
    {
     "name": "stderr",
     "output_type": "stream",
     "text": [
      "/Users/luzy6/PycharmProjects/UAV_mission_assignment_and_path_planning/task_allocation_layer/task_allocation.py:133: OptimizeWarning: Sparse constraint matrix detected; setting 'sparse':True.\n",
      "  res = linprog(c=cost_vector, A_ub=A_ub, b_ub=b_ub, A_eq=A_eq, b_eq=b_eq,\n"
     ]
    },
    {
     "ename": "KeyError",
     "evalue": "68.0",
     "output_type": "error",
     "traceback": [
      "\u001b[0;31m---------------------------------------------------------------------------\u001b[0m",
      "\u001b[0;31mKeyError\u001b[0m                                  Traceback (most recent call last)",
      "Input \u001b[0;32mIn [14]\u001b[0m, in \u001b[0;36m<cell line: 1>\u001b[0;34m()\u001b[0m\n\u001b[1;32m      2\u001b[0m cur_rate \u001b[38;5;241m=\u001b[39m [\u001b[38;5;241m0\u001b[39m, \u001b[38;5;241m0\u001b[39m, \u001b[38;5;241m0\u001b[39m]\n\u001b[1;32m      3\u001b[0m \u001b[38;5;28;01mfor\u001b[39;00m i \u001b[38;5;129;01min\u001b[39;00m \u001b[38;5;28mrange\u001b[39m(sample_time): \n\u001b[0;32m----> 4\u001b[0m     a, b, c \u001b[38;5;241m=\u001b[39m \u001b[43mconbine_all\u001b[49m\u001b[43m(\u001b[49m\u001b[43mN_depots\u001b[49m\u001b[43m \u001b[49m\u001b[38;5;241;43m=\u001b[39;49m\u001b[43m \u001b[49m\u001b[38;5;241;43m1\u001b[39;49m\u001b[43m,\u001b[49m\u001b[43m \u001b[49m\u001b[43mN_drones\u001b[49m\u001b[43m \u001b[49m\u001b[38;5;241;43m=\u001b[39;49m\u001b[43m \u001b[49m\u001b[38;5;241;43m20\u001b[39;49m\u001b[43m,\u001b[49m\u001b[43mN_packages\u001b[49m\u001b[43m \u001b[49m\u001b[38;5;241;43m=\u001b[39;49m\u001b[43m \u001b[49m\u001b[38;5;241;43m60\u001b[39;49m\u001b[43m,\u001b[49m\u001b[43mN_transit_edges\u001b[49m\u001b[43m \u001b[49m\u001b[38;5;241;43m=\u001b[39;49m\u001b[43m \u001b[49m\u001b[43mnum\u001b[49m\u001b[43m,\u001b[49m\u001b[43mMax_flight\u001b[49m\u001b[43m \u001b[49m\u001b[38;5;241;43m=\u001b[39;49m\u001b[43m \u001b[49m\u001b[38;5;241;43m100\u001b[39;49m\u001b[43m)\u001b[49m\n\u001b[1;32m      5\u001b[0m     cur_rate[\u001b[38;5;241m0\u001b[39m] \u001b[38;5;241m+\u001b[39m\u001b[38;5;241m=\u001b[39m a\n\u001b[1;32m      6\u001b[0m     cur_rate[\u001b[38;5;241m1\u001b[39m] \u001b[38;5;241m+\u001b[39m\u001b[38;5;241m=\u001b[39m b\n",
      "Input \u001b[0;32mIn [9]\u001b[0m, in \u001b[0;36mconbine_all\u001b[0;34m(N_depots, N_drones, N_packages, N_transit_edges, Max_flight)\u001b[0m\n\u001b[1;32m     56\u001b[0m     \u001b[38;5;28;01mcontinue\u001b[39;00m\n\u001b[1;32m     57\u001b[0m start, end \u001b[38;5;241m=\u001b[39m drone_tours[i][index], drone_tours[i][index \u001b[38;5;241m+\u001b[39m \u001b[38;5;241m1\u001b[39m]\n\u001b[0;32m---> 58\u001b[0m success, departure_route, departure_time_stamp, departure_time \u001b[38;5;241m=\u001b[39m \u001b[43mone_drone_dilivery_departure_route_by_astar\u001b[49m\u001b[43m(\u001b[49m\n\u001b[1;32m     59\u001b[0m \u001b[43m    \u001b[49m\u001b[43mTG\u001b[49m\u001b[43m,\u001b[49m\u001b[43m \u001b[49m\u001b[43mtransit_constrain\u001b[49m\u001b[43m,\u001b[49m\u001b[43m \u001b[49m\u001b[43mtransit_node\u001b[49m\u001b[43m,\u001b[49m\u001b[43m \u001b[49m\u001b[43mtransit_edges\u001b[49m\u001b[43m,\u001b[49m\u001b[43m \u001b[49m\u001b[43mstart\u001b[49m\u001b[43m,\u001b[49m\u001b[43m \u001b[49m\u001b[43mend\u001b[49m\u001b[43m,\u001b[49m\u001b[43m \u001b[49m\u001b[43mMax_flight\u001b[49m\u001b[43m,\u001b[49m\u001b[43m \u001b[49m\u001b[43mdrone_start_time\u001b[49m\u001b[43m[\u001b[49m\u001b[43mi\u001b[49m\u001b[43m]\u001b[49m\u001b[43m)\u001b[49m\n\u001b[1;32m     60\u001b[0m \u001b[38;5;66;03m#         print(drone_tours[i][index], drone_tours[i][index+1])\u001b[39;00m\n\u001b[1;32m     61\u001b[0m \u001b[38;5;28;01mif\u001b[39;00m success \u001b[38;5;241m==\u001b[39m \u001b[38;5;28;01mTrue\u001b[39;00m:\n",
      "File \u001b[0;32m~/PycharmProjects/UAV_mission_assignment_and_path_planning/main.py:234\u001b[0m, in \u001b[0;36mone_drone_dilivery_departure_route_by_astar\u001b[0;34m(TG, transit_constrain, transit_node, transit_edges, depot_id, package_id, Max_flight, start_time)\u001b[0m\n\u001b[1;32m    229\u001b[0m     \u001b[38;5;28;01mreturn\u001b[39;00m \u001b[38;5;28;01mTrue\u001b[39;00m, [depot_id, package_id], [start_time, start_time \u001b[38;5;241m+\u001b[39m direct_distance\u001b[38;5;241m/\u001b[39mdrone_speed], direct_distance\u001b[38;5;241m/\u001b[39mdrone_speed\n\u001b[1;32m    231\u001b[0m transit_network \u001b[38;5;241m=\u001b[39m MAPF\u001b[38;5;241m.\u001b[39msingle_drone_FP\u001b[38;5;241m.\u001b[39mgenerate_transit_network(TG, transit_node, transit_edges, depot_id,\n\u001b[1;32m    232\u001b[0m                                                                 package_id)\n\u001b[0;32m--> 234\u001b[0m success, sub_mission_way, transit_wait \u001b[38;5;241m=\u001b[39m \u001b[43mMAPF\u001b[49m\u001b[38;5;241;43m.\u001b[39;49m\u001b[43mAstar\u001b[49m\u001b[38;5;241;43m.\u001b[39;49m\u001b[43mastar_with_conflict_avoid\u001b[49m\u001b[43m(\u001b[49m\u001b[43mtransit_network\u001b[49m\u001b[43m,\u001b[49m\u001b[43m \u001b[49m\u001b[43mtransit_constrain\u001b[49m\u001b[43m,\u001b[49m\u001b[43m \u001b[49m\u001b[43mtransit_edges\u001b[49m\u001b[43m,\u001b[49m\u001b[43m \u001b[49m\u001b[43mdepot_id\u001b[49m\u001b[43m,\u001b[49m\u001b[43m \u001b[49m\u001b[43mpackage_id\u001b[49m\u001b[43m,\u001b[49m\u001b[43m \u001b[49m\u001b[43mMax_flight\u001b[49m\u001b[43m,\u001b[49m\u001b[43m \u001b[49m\u001b[43mstart_time\u001b[49m\u001b[43m)\u001b[49m\n\u001b[1;32m    235\u001b[0m \u001b[38;5;28;01mif\u001b[39;00m success \u001b[38;5;241m==\u001b[39m \u001b[38;5;28;01mFalse\u001b[39;00m:\n\u001b[1;32m    236\u001b[0m     \u001b[38;5;28;01mreturn\u001b[39;00m \u001b[38;5;28;01mFalse\u001b[39;00m, [], [start_time], \u001b[38;5;241m0\u001b[39m\n",
      "File \u001b[0;32m~/PycharmProjects/UAV_mission_assignment_and_path_planning/MAPF/Astar.py:142\u001b[0m, in \u001b[0;36mastar_with_conflict_avoid\u001b[0;34m(transit_network, transit_constrain, transit_edges, depot_id, package_id, Max_flight, start_time)\u001b[0m\n\u001b[1;32m    140\u001b[0m close_list \u001b[38;5;241m=\u001b[39m {}\n\u001b[1;32m    141\u001b[0m \u001b[38;5;66;03m#     pq.push(start_node, start_node.time_cost + transit_network.edges[depot_id, package_id]['time'])\u001b[39;00m\n\u001b[0;32m--> 142\u001b[0m pq\u001b[38;5;241m.\u001b[39mpush(start_node, start_node\u001b[38;5;241m.\u001b[39mtime_cost \u001b[38;5;241m+\u001b[39m \u001b[43mheuristic1\u001b[49m\u001b[43m[\u001b[49m\u001b[43mdepot_id\u001b[49m\u001b[43m]\u001b[49m)\n\u001b[1;32m    143\u001b[0m \u001b[38;5;28;01mwhile\u001b[39;00m \u001b[38;5;129;01mnot\u001b[39;00m pq\u001b[38;5;241m.\u001b[39mempty():\n\u001b[1;32m    144\u001b[0m     cur \u001b[38;5;241m=\u001b[39m pq\u001b[38;5;241m.\u001b[39mpop()\n",
      "\u001b[0;31mKeyError\u001b[0m: 68.0"
     ]
    }
   ],
   "source": [
    "for num in Num_transit:\n",
    "    cur_rate = [0, 0, 0]\n",
    "    for i in range(sample_time): \n",
    "        a, b, c = conbine_all(N_depots = 1, N_drones = 20,N_packages = 60,N_transit_edges = num,Max_flight = 100)\n",
    "        cur_rate[0] += a\n",
    "        cur_rate[1] += b\n",
    "        cur_rate[2] += c\n",
    "    cur_rate[0] /= sample_time\n",
    "    cur_rate[1] /= sample_time\n",
    "    cur_rate[2] /= sample_time\n",
    "    fail_rate.append(cur_rate)"
   ]
  },
  {
   "cell_type": "code",
   "execution_count": 17,
   "id": "a18789b3",
   "metadata": {
    "scrolled": true
   },
   "outputs": [
    {
     "data": {
      "text/plain": [
       "[[0.8666666666666667, 0.8666666666666667, 0.8666666666666667],\n",
       " [1.0, 1.0, 1.0],\n",
       " [0.9666666666666667, 0.9666666666666667, 0.9666666666666667],\n",
       " [0.85, 0.8333333333333334, 0.8333333333333334],\n",
       " [0.8333333333333334, 0.7833333333333333, 0.7833333333333333],\n",
       " [0.8833333333333333, 0.8, 0.6166666666666667],\n",
       " [0.95, 0.8833333333333333, 0.35],\n",
       " [0.95, 0.95, 0.5833333333333334],\n",
       " [0.5333333333333333, 0.5333333333333333, 0.26666666666666666],\n",
       " [0.6166666666666667, 0.6, 0.0]]"
      ]
     },
     "execution_count": 17,
     "metadata": {},
     "output_type": "execute_result"
    }
   ],
   "source": [
    "# [[0.8266666666666668, 0.8266666666666668, 0.8266666666666668],\n",
    "#  [0.8800000000000001, 0.8699999999999999, 0.8666666666666666],\n",
    "#  [0.9, 0.8966666666666667, 0.8933333333333333],\n",
    "#  [0.93, 0.9033333333333333, 0.89],\n",
    "#  [0.8666666666666666, 0.8333333333333333, 0.7733333333333333],\n",
    "#  [0.8933333333333333, 0.8133333333333332, 0.6166666666666667],\n",
    "#  [0.7366666666666667, 0.6533333333333333, 0.33333333333333337],\n",
    "#  [0.8466666666666667, 0.79, 0.5366666666666667],\n",
    "#  [0.8333333333333334, 0.7433333333333334, 0.22000000000000003],\n",
    "#  [0.7666666666666666, 0.7133333333333334, 0.08666666666666667]]\n",
    "fail_rate\n",
    "# [[0.9099999999999999, 0.9099999999999999, 0.9099999999999999],\n",
    "#  [0.8833333333333332, 0.8649999999999999, 0.8633333333333333],\n",
    "#  [0.8916666666666668, 0.8716666666666667, 0.8716666666666667],\n",
    "#  [0.8433333333333334, 0.835, 0.7933333333333333],\n",
    "#  [0.8816666666666666, 0.8516666666666668, 0.8133333333333332],\n",
    "#  [0.8266666666666668, 0.8116666666666668, 0.6033333333333333],\n",
    "#  [0.8583333333333334, 0.8183333333333334, 0.6066666666666667],\n",
    "#  [0.8566666666666667, 0.805, 0.22999999999999998],\n",
    "#  [0.7833333333333332, 0.74, 0.23000000000000004],\n",
    "#  [0.8116666666666668, 0.7466666666666667, 0.11166666666666666]]"
   ]
  },
  {
   "cell_type": "code",
   "execution_count": 25,
   "id": "0f190aa0",
   "metadata": {},
   "outputs": [
    {
     "data": {
      "text/plain": [
       "[[0.7833333333333333, 0.7833333333333333, 0.7833333333333333],\n",
       " [0.95, 0.95, 0.95],\n",
       " [0.8166666666666667, 0.8166666666666667, 0.8166666666666667],\n",
       " [0.7166666666666667, 0.7166666666666667, 0.6166666666666667],\n",
       " [1.0, 0.9833333333333333, 0.9166666666666666],\n",
       " [0.9333333333333333, 0.9166666666666666, 0.9166666666666666],\n",
       " [0.8333333333333334, 0.7833333333333333, 0.5333333333333333],\n",
       " [0.8666666666666667, 0.75, 0.23333333333333334],\n",
       " [0.7, 0.7, 0.2833333333333333],\n",
       " [0.8833333333333333, 0.75, 0.0]]"
      ]
     },
     "execution_count": 25,
     "metadata": {},
     "output_type": "execute_result"
    }
   ],
   "source": [
    "# [[0.7833333333333333, 0.7833333333333333, 0.7833333333333333],\n",
    "#  [0.95, 0.95, 0.95],\n",
    "#  [0.8166666666666667, 0.8166666666666667, 0.8166666666666667],\n",
    "#  [0.7166666666666667, 0.7166666666666667, 0.6166666666666667],\n",
    "#  [1.0, 0.9833333333333333, 0.9166666666666666],\n",
    "#  [0.9333333333333333, 0.9166666666666666, 0.9166666666666666],\n",
    "#  [0.8333333333333334, 0.7833333333333333, 0.5333333333333333],\n",
    "#  [0.8666666666666667, 0.75, 0.23333333333333334],\n",
    "#  [0.7, 0.7, 0.2833333333333333],\n",
    "#  [0.8833333333333333, 0.75, 0.0]]\n",
    "success_rate"
   ]
  },
  {
   "cell_type": "code",
   "execution_count": null,
   "id": "bba0a574",
   "metadata": {},
   "outputs": [],
   "source": []
  }
 ],
 "metadata": {
  "kernelspec": {
   "display_name": "Python [conda env:UAV]",
   "language": "python",
   "name": "conda-env-UAV-py"
  },
  "language_info": {
   "codemirror_mode": {
    "name": "ipython",
    "version": 3
   },
   "file_extension": ".py",
   "mimetype": "text/x-python",
   "name": "python",
   "nbconvert_exporter": "python",
   "pygments_lexer": "ipython3",
   "version": "3.9.12"
  }
 },
 "nbformat": 4,
 "nbformat_minor": 5
}
